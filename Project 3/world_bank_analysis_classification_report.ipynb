{
  "metadata": {
    "kernelspec": {
      "language": "python",
      "display_name": "Python 3",
      "name": "python3"
    },
    "language_info": {
      "name": "python",
      "version": "3.11.11",
      "mimetype": "text/x-python",
      "codemirror_mode": {
        "name": "ipython",
        "version": 3
      },
      "pygments_lexer": "ipython3",
      "nbconvert_exporter": "python",
      "file_extension": ".py"
    },
    "kaggle": {
      "accelerator": "none",
      "dataSources": [
        {
          "sourceId": 11258059,
          "sourceType": "datasetVersion",
          "datasetId": 6997838
        }
      ],
      "dockerImageVersionId": 31012,
      "isInternetEnabled": false,
      "language": "python",
      "sourceType": "notebook",
      "isGpuEnabled": false
    },
    "colab": {
      "provenance": []
    }
  },
  "nbformat_minor": 0,
  "nbformat": 4,
  "cells": [
    {
      "cell_type": "markdown",
      "source": [
        "# **Importing the dataset**"
      ],
      "metadata": {
        "id": "8cZ_63MeId8h"
      }
    },
    {
      "cell_type": "code",
      "source": [
        "import kagglehub\n",
        "\n",
        "# Download latest version\n",
        "path = kagglehub.dataset_download(\"georgejdinicola/world-bank-indicators\")\n",
        "\n",
        "print(\"Path to dataset files:\", path)"
      ],
      "metadata": {
        "_uuid": "8f2839f25d086af736a60e9eeb907d3b93b6e0e5",
        "_cell_guid": "b1076dfc-b9ad-4769-8c92-a6c4dae69d19",
        "trusted": true,
        "execution": {
          "iopub.status.busy": "2025-04-26T05:13:36.558004Z",
          "iopub.execute_input": "2025-04-26T05:13:36.558188Z",
          "iopub.status.idle": "2025-04-26T05:13:40.587116Z",
          "shell.execute_reply.started": "2025-04-26T05:13:36.558168Z",
          "shell.execute_reply": "2025-04-26T05:13:40.586287Z"
        },
        "id": "T6KC4q5pIdRm",
        "outputId": "34d93a69-b974-4113-9873-0cb43c61e80c"
      },
      "outputs": [
        {
          "name": "stdout",
          "text": "Path to dataset files: /kaggle/input/world-bank-indicators\n",
          "output_type": "stream"
        }
      ],
      "execution_count": null
    },
    {
      "cell_type": "markdown",
      "source": [
        "# **Importing the libraries**"
      ],
      "metadata": {
        "id": "k2Cf0ygCIj7m"
      }
    },
    {
      "cell_type": "code",
      "source": [
        "import pandas as pd\n",
        "import numpy as np\n",
        "from sklearn.model_selection import train_test_split, GridSearchCV\n",
        "from sklearn.preprocessing import LabelEncoder, StandardScaler\n",
        "from sklearn.ensemble import RandomForestClassifier\n",
        "from sklearn.metrics import classification_report, confusion_matrix\n",
        "import matplotlib.pyplot as plt\n",
        "import seaborn as sns"
      ],
      "metadata": {
        "trusted": true,
        "execution": {
          "iopub.status.busy": "2025-04-26T05:13:49.592878Z",
          "iopub.execute_input": "2025-04-26T05:13:49.593129Z",
          "iopub.status.idle": "2025-04-26T05:13:51.071789Z",
          "shell.execute_reply.started": "2025-04-26T05:13:49.593111Z",
          "shell.execute_reply": "2025-04-26T05:13:51.070694Z"
        },
        "id": "QO8U7E7ZIdRo"
      },
      "outputs": [],
      "execution_count": null
    },
    {
      "cell_type": "markdown",
      "source": [
        "# **Load dataset**"
      ],
      "metadata": {
        "id": "1oXbxCudIrpQ"
      }
    },
    {
      "cell_type": "code",
      "source": [
        "# Load dataset\n",
        "df = pd.read_csv('/kaggle/input/world-bank-indicators/world_bank_indicators.csv')  # Update if needed"
      ],
      "metadata": {
        "trusted": true,
        "execution": {
          "iopub.status.busy": "2025-04-26T05:22:40.405063Z",
          "iopub.execute_input": "2025-04-26T05:22:40.405305Z",
          "iopub.status.idle": "2025-04-26T05:22:40.966848Z",
          "shell.execute_reply.started": "2025-04-26T05:22:40.405288Z",
          "shell.execute_reply": "2025-04-26T05:22:40.965474Z"
        },
        "id": "WZ7BmXKeIdRo"
      },
      "outputs": [],
      "execution_count": null
    },
    {
      "cell_type": "markdown",
      "source": [
        "# **Target and cleanup**"
      ],
      "metadata": {
        "id": "8-66Q4MkIuqX"
      }
    },
    {
      "cell_type": "code",
      "source": [
        "# Target and cleanup\n",
        "target_column = 'Unemployment, total (% of total labor force) (modeled ILO estimate)'\n",
        "df = df.dropna(subset=[target_column])"
      ],
      "metadata": {
        "trusted": true,
        "execution": {
          "iopub.status.busy": "2025-04-26T05:23:10.521076Z",
          "iopub.execute_input": "2025-04-26T05:23:10.521380Z",
          "iopub.status.idle": "2025-04-26T05:23:10.545221Z",
          "shell.execute_reply.started": "2025-04-26T05:23:10.521326Z",
          "shell.execute_reply": "2025-04-26T05:23:10.544111Z"
        },
        "id": "1cmpi732IdRo"
      },
      "outputs": [],
      "execution_count": null
    },
    {
      "cell_type": "markdown",
      "source": [
        "# **Convert target to classification: Low, Medium, High**"
      ],
      "metadata": {
        "id": "bMpxGv4jI4iu"
      }
    },
    {
      "cell_type": "code",
      "source": [
        "# Convert target to classification: Low, Medium, High\n",
        "def classify_unemployment(rate):\n",
        "    if rate < 5:\n",
        "        return 'Low'\n",
        "    elif rate < 10:\n",
        "        return 'Medium'\n",
        "    else:\n",
        "        return 'High'\n",
        "\n",
        "df['Unemployment_Class'] = df[target_column].apply(classify_unemployment)"
      ],
      "metadata": {
        "trusted": true,
        "execution": {
          "iopub.status.busy": "2025-04-26T05:23:33.041197Z",
          "iopub.execute_input": "2025-04-26T05:23:33.041499Z",
          "iopub.status.idle": "2025-04-26T05:23:33.048741Z",
          "shell.execute_reply.started": "2025-04-26T05:23:33.041475Z",
          "shell.execute_reply": "2025-04-26T05:23:33.047803Z"
        },
        "id": "JGQOdpuLIdRp"
      },
      "outputs": [],
      "execution_count": null
    },
    {
      "cell_type": "markdown",
      "source": [
        "# **Preprocessing**"
      ],
      "metadata": {
        "id": "Q3dOQzr6I6-n"
      }
    },
    {
      "cell_type": "code",
      "source": [
        "# Preprocessing\n",
        "df = df.drop(columns=['updated_at', 'year', target_column])"
      ],
      "metadata": {
        "trusted": true,
        "execution": {
          "iopub.status.busy": "2025-04-26T05:23:55.645945Z",
          "iopub.execute_input": "2025-04-26T05:23:55.646238Z",
          "iopub.status.idle": "2025-04-26T05:23:55.653305Z",
          "shell.execute_reply.started": "2025-04-26T05:23:55.646215Z",
          "shell.execute_reply": "2025-04-26T05:23:55.652366Z"
        },
        "id": "2vX-C69ZIdRp"
      },
      "outputs": [],
      "execution_count": null
    },
    {
      "cell_type": "markdown",
      "source": [
        "# **Encode 'country'**"
      ],
      "metadata": {
        "id": "oX1oqPaZJA7e"
      }
    },
    {
      "cell_type": "code",
      "source": [
        "# Encode 'country'\n",
        "le = LabelEncoder()\n",
        "df['country'] = le.fit_transform(df['country'])"
      ],
      "metadata": {
        "trusted": true,
        "execution": {
          "iopub.status.busy": "2025-04-26T05:24:56.643169Z",
          "iopub.execute_input": "2025-04-26T05:24:56.643479Z",
          "iopub.status.idle": "2025-04-26T05:24:56.650276Z",
          "shell.execute_reply.started": "2025-04-26T05:24:56.643458Z",
          "shell.execute_reply": "2025-04-26T05:24:56.649086Z"
        },
        "id": "aVKJRT_JIdRp"
      },
      "outputs": [],
      "execution_count": null
    },
    {
      "cell_type": "markdown",
      "source": [
        "#**Drop high-null columns**"
      ],
      "metadata": {
        "id": "oxaFoFcWJIrY"
      }
    },
    {
      "cell_type": "code",
      "source": [
        "# Drop high-null columns\n",
        "df = df.loc[:, df.isnull().mean() < 0.5]"
      ],
      "metadata": {
        "trusted": true,
        "execution": {
          "iopub.status.busy": "2025-04-26T05:24:58.461507Z",
          "iopub.execute_input": "2025-04-26T05:24:58.461820Z",
          "iopub.status.idle": "2025-04-26T05:24:58.482513Z",
          "shell.execute_reply.started": "2025-04-26T05:24:58.461786Z",
          "shell.execute_reply": "2025-04-26T05:24:58.481446Z"
        },
        "id": "k75K5g0cIdRp"
      },
      "outputs": [],
      "execution_count": null
    },
    {
      "cell_type": "markdown",
      "source": [
        "# **Fill missing values**"
      ],
      "metadata": {
        "id": "ZUuo6ByQJOYH"
      }
    },
    {
      "cell_type": "code",
      "source": [
        "# Fill missing values\n",
        "df = df.fillna(df.mean(numeric_only=True))"
      ],
      "metadata": {
        "trusted": true,
        "execution": {
          "iopub.status.busy": "2025-04-26T05:25:00.543068Z",
          "iopub.execute_input": "2025-04-26T05:25:00.543372Z",
          "iopub.status.idle": "2025-04-26T05:25:00.591333Z",
          "shell.execute_reply.started": "2025-04-26T05:25:00.543321Z",
          "shell.execute_reply": "2025-04-26T05:25:00.590446Z"
        },
        "id": "AnWo3ZNWIdRp"
      },
      "outputs": [],
      "execution_count": null
    },
    {
      "cell_type": "markdown",
      "source": [
        "# **Split features and target**"
      ],
      "metadata": {
        "id": "suPnIdcfJR4P"
      }
    },
    {
      "cell_type": "code",
      "source": [
        "# Split features and target\n",
        "X = df.drop(columns=['Unemployment_Class'])\n",
        "y = df['Unemployment_Class']"
      ],
      "metadata": {
        "trusted": true,
        "execution": {
          "iopub.status.busy": "2025-04-26T05:25:14.290534Z",
          "iopub.execute_input": "2025-04-26T05:25:14.290804Z",
          "iopub.status.idle": "2025-04-26T05:25:14.301841Z",
          "shell.execute_reply.started": "2025-04-26T05:25:14.290786Z",
          "shell.execute_reply": "2025-04-26T05:25:14.300968Z"
        },
        "id": "KJli9g-MIdRq"
      },
      "outputs": [],
      "execution_count": null
    },
    {
      "cell_type": "markdown",
      "source": [
        "# **Scale features**"
      ],
      "metadata": {
        "id": "s9qoIcMVJVKo"
      }
    },
    {
      "cell_type": "code",
      "source": [
        "# Scale features\n",
        "scaler = StandardScaler()\n",
        "X_scaled = scaler.fit_transform(X)"
      ],
      "metadata": {
        "trusted": true,
        "execution": {
          "iopub.status.busy": "2025-04-26T05:25:35.864577Z",
          "iopub.execute_input": "2025-04-26T05:25:35.864841Z",
          "iopub.status.idle": "2025-04-26T05:25:35.920797Z",
          "shell.execute_reply.started": "2025-04-26T05:25:35.864821Z",
          "shell.execute_reply": "2025-04-26T05:25:35.919733Z"
        },
        "id": "I33tMUDsIdRq"
      },
      "outputs": [],
      "execution_count": null
    },
    {
      "cell_type": "markdown",
      "source": [
        "# **Train/test split**"
      ],
      "metadata": {
        "id": "GZCkweUXJYdn"
      }
    },
    {
      "cell_type": "code",
      "source": [
        "# Train/test split\n",
        "X_train, X_test, y_train, y_test = train_test_split(X_scaled, y, test_size=0.2, random_state=42, stratify=y)"
      ],
      "metadata": {
        "trusted": true,
        "execution": {
          "iopub.status.busy": "2025-04-26T05:25:38.718434Z",
          "iopub.execute_input": "2025-04-26T05:25:38.719251Z",
          "iopub.status.idle": "2025-04-26T05:25:38.736995Z",
          "shell.execute_reply.started": "2025-04-26T05:25:38.719225Z",
          "shell.execute_reply": "2025-04-26T05:25:38.735923Z"
        },
        "id": "ttfy8ScyIdRq"
      },
      "outputs": [],
      "execution_count": null
    },
    {
      "cell_type": "markdown",
      "source": [
        "# **Model training with hyperparameter tuning**"
      ],
      "metadata": {
        "id": "DhTuOaH7Jby3"
      }
    },
    {
      "cell_type": "code",
      "source": [
        "# Model training with hyperparameter tuning\n",
        "param_grid = {\n",
        "    'n_estimators': [100, 200],\n",
        "    'max_depth': [None, 10, 20],\n",
        "    'min_samples_split': [2, 5]\n",
        "}\n",
        "\n",
        "grid = GridSearchCV(RandomForestClassifier(random_state=42), param_grid, cv=5, scoring='accuracy')\n",
        "grid.fit(X_train, y_train)\n"
      ],
      "metadata": {
        "trusted": true,
        "execution": {
          "iopub.status.busy": "2025-04-26T05:26:00.307894Z",
          "iopub.execute_input": "2025-04-26T05:26:00.308200Z",
          "iopub.status.idle": "2025-04-26T05:30:41.789531Z",
          "shell.execute_reply.started": "2025-04-26T05:26:00.308180Z",
          "shell.execute_reply": "2025-04-26T05:30:41.788597Z"
        },
        "id": "hr7B8NbCIdRq",
        "outputId": "f7126dfa-d13d-4695-8c90-065c447e2f56"
      },
      "outputs": [
        {
          "execution_count": 14,
          "output_type": "execute_result",
          "data": {
            "text/plain": "GridSearchCV(cv=5, estimator=RandomForestClassifier(random_state=42),\n             param_grid={'max_depth': [None, 10, 20],\n                         'min_samples_split': [2, 5],\n                         'n_estimators': [100, 200]},\n             scoring='accuracy')",
            "text/html": "<style>#sk-container-id-1 {color: black;background-color: white;}#sk-container-id-1 pre{padding: 0;}#sk-container-id-1 div.sk-toggleable {background-color: white;}#sk-container-id-1 label.sk-toggleable__label {cursor: pointer;display: block;width: 100%;margin-bottom: 0;padding: 0.3em;box-sizing: border-box;text-align: center;}#sk-container-id-1 label.sk-toggleable__label-arrow:before {content: \"▸\";float: left;margin-right: 0.25em;color: #696969;}#sk-container-id-1 label.sk-toggleable__label-arrow:hover:before {color: black;}#sk-container-id-1 div.sk-estimator:hover label.sk-toggleable__label-arrow:before {color: black;}#sk-container-id-1 div.sk-toggleable__content {max-height: 0;max-width: 0;overflow: hidden;text-align: left;background-color: #f0f8ff;}#sk-container-id-1 div.sk-toggleable__content pre {margin: 0.2em;color: black;border-radius: 0.25em;background-color: #f0f8ff;}#sk-container-id-1 input.sk-toggleable__control:checked~div.sk-toggleable__content {max-height: 200px;max-width: 100%;overflow: auto;}#sk-container-id-1 input.sk-toggleable__control:checked~label.sk-toggleable__label-arrow:before {content: \"▾\";}#sk-container-id-1 div.sk-estimator input.sk-toggleable__control:checked~label.sk-toggleable__label {background-color: #d4ebff;}#sk-container-id-1 div.sk-label input.sk-toggleable__control:checked~label.sk-toggleable__label {background-color: #d4ebff;}#sk-container-id-1 input.sk-hidden--visually {border: 0;clip: rect(1px 1px 1px 1px);clip: rect(1px, 1px, 1px, 1px);height: 1px;margin: -1px;overflow: hidden;padding: 0;position: absolute;width: 1px;}#sk-container-id-1 div.sk-estimator {font-family: monospace;background-color: #f0f8ff;border: 1px dotted black;border-radius: 0.25em;box-sizing: border-box;margin-bottom: 0.5em;}#sk-container-id-1 div.sk-estimator:hover {background-color: #d4ebff;}#sk-container-id-1 div.sk-parallel-item::after {content: \"\";width: 100%;border-bottom: 1px solid gray;flex-grow: 1;}#sk-container-id-1 div.sk-label:hover label.sk-toggleable__label {background-color: #d4ebff;}#sk-container-id-1 div.sk-serial::before {content: \"\";position: absolute;border-left: 1px solid gray;box-sizing: border-box;top: 0;bottom: 0;left: 50%;z-index: 0;}#sk-container-id-1 div.sk-serial {display: flex;flex-direction: column;align-items: center;background-color: white;padding-right: 0.2em;padding-left: 0.2em;position: relative;}#sk-container-id-1 div.sk-item {position: relative;z-index: 1;}#sk-container-id-1 div.sk-parallel {display: flex;align-items: stretch;justify-content: center;background-color: white;position: relative;}#sk-container-id-1 div.sk-item::before, #sk-container-id-1 div.sk-parallel-item::before {content: \"\";position: absolute;border-left: 1px solid gray;box-sizing: border-box;top: 0;bottom: 0;left: 50%;z-index: -1;}#sk-container-id-1 div.sk-parallel-item {display: flex;flex-direction: column;z-index: 1;position: relative;background-color: white;}#sk-container-id-1 div.sk-parallel-item:first-child::after {align-self: flex-end;width: 50%;}#sk-container-id-1 div.sk-parallel-item:last-child::after {align-self: flex-start;width: 50%;}#sk-container-id-1 div.sk-parallel-item:only-child::after {width: 0;}#sk-container-id-1 div.sk-dashed-wrapped {border: 1px dashed gray;margin: 0 0.4em 0.5em 0.4em;box-sizing: border-box;padding-bottom: 0.4em;background-color: white;}#sk-container-id-1 div.sk-label label {font-family: monospace;font-weight: bold;display: inline-block;line-height: 1.2em;}#sk-container-id-1 div.sk-label-container {text-align: center;}#sk-container-id-1 div.sk-container {/* jupyter's `normalize.less` sets `[hidden] { display: none; }` but bootstrap.min.css set `[hidden] { display: none !important; }` so we also need the `!important` here to be able to override the default hidden behavior on the sphinx rendered scikit-learn.org. See: https://github.com/scikit-learn/scikit-learn/issues/21755 */display: inline-block !important;position: relative;}#sk-container-id-1 div.sk-text-repr-fallback {display: none;}</style><div id=\"sk-container-id-1\" class=\"sk-top-container\"><div class=\"sk-text-repr-fallback\"><pre>GridSearchCV(cv=5, estimator=RandomForestClassifier(random_state=42),\n             param_grid={&#x27;max_depth&#x27;: [None, 10, 20],\n                         &#x27;min_samples_split&#x27;: [2, 5],\n                         &#x27;n_estimators&#x27;: [100, 200]},\n             scoring=&#x27;accuracy&#x27;)</pre><b>In a Jupyter environment, please rerun this cell to show the HTML representation or trust the notebook. <br />On GitHub, the HTML representation is unable to render, please try loading this page with nbviewer.org.</b></div><div class=\"sk-container\" hidden><div class=\"sk-item sk-dashed-wrapped\"><div class=\"sk-label-container\"><div class=\"sk-label sk-toggleable\"><input class=\"sk-toggleable__control sk-hidden--visually\" id=\"sk-estimator-id-1\" type=\"checkbox\" ><label for=\"sk-estimator-id-1\" class=\"sk-toggleable__label sk-toggleable__label-arrow\">GridSearchCV</label><div class=\"sk-toggleable__content\"><pre>GridSearchCV(cv=5, estimator=RandomForestClassifier(random_state=42),\n             param_grid={&#x27;max_depth&#x27;: [None, 10, 20],\n                         &#x27;min_samples_split&#x27;: [2, 5],\n                         &#x27;n_estimators&#x27;: [100, 200]},\n             scoring=&#x27;accuracy&#x27;)</pre></div></div></div><div class=\"sk-parallel\"><div class=\"sk-parallel-item\"><div class=\"sk-item\"><div class=\"sk-label-container\"><div class=\"sk-label sk-toggleable\"><input class=\"sk-toggleable__control sk-hidden--visually\" id=\"sk-estimator-id-2\" type=\"checkbox\" ><label for=\"sk-estimator-id-2\" class=\"sk-toggleable__label sk-toggleable__label-arrow\">estimator: RandomForestClassifier</label><div class=\"sk-toggleable__content\"><pre>RandomForestClassifier(random_state=42)</pre></div></div></div><div class=\"sk-serial\"><div class=\"sk-item\"><div class=\"sk-estimator sk-toggleable\"><input class=\"sk-toggleable__control sk-hidden--visually\" id=\"sk-estimator-id-3\" type=\"checkbox\" ><label for=\"sk-estimator-id-3\" class=\"sk-toggleable__label sk-toggleable__label-arrow\">RandomForestClassifier</label><div class=\"sk-toggleable__content\"><pre>RandomForestClassifier(random_state=42)</pre></div></div></div></div></div></div></div></div></div></div>"
          },
          "metadata": {}
        }
      ],
      "execution_count": null
    },
    {
      "cell_type": "markdown",
      "source": [
        "# **Best model**"
      ],
      "metadata": {
        "id": "0-r7wqMbJgkP"
      }
    },
    {
      "cell_type": "code",
      "source": [
        "# Best model\n",
        "model = grid.best_estimator_"
      ],
      "metadata": {
        "trusted": true,
        "execution": {
          "iopub.status.busy": "2025-04-26T05:35:09.928131Z",
          "iopub.execute_input": "2025-04-26T05:35:09.928458Z",
          "iopub.status.idle": "2025-04-26T05:35:09.932544Z",
          "shell.execute_reply.started": "2025-04-26T05:35:09.928438Z",
          "shell.execute_reply": "2025-04-26T05:35:09.931507Z"
        },
        "id": "ggNif0eyIdRq"
      },
      "outputs": [],
      "execution_count": null
    },
    {
      "cell_type": "markdown",
      "source": [
        "# **Predict and evaluate**"
      ],
      "metadata": {
        "id": "WLA0Kh_SJjU3"
      }
    },
    {
      "cell_type": "code",
      "source": [
        "# Predict and evaluate\n",
        "y_pred = model.predict(X_test)\n",
        "\n",
        "print(\"Classification Report:\\n\", classification_report(y_test, y_pred))\n",
        "print(\"Confusion Matrix:\\n\")\n",
        "sns.heatmap(confusion_matrix(y_test, y_pred), annot=True, fmt='d', cmap='Blues', xticklabels=model.classes_, yticklabels=model.classes_)\n",
        "plt.xlabel('Predicted')\n",
        "plt.ylabel('Actual')\n",
        "plt.title('Confusion Matrix')\n",
        "plt.show()\n",
        "\n",
        "print(f\"Best Parameters: {grid.best_params_}\")"
      ],
      "metadata": {
        "trusted": true,
        "execution": {
          "iopub.status.busy": "2025-04-26T05:35:16.232965Z",
          "iopub.execute_input": "2025-04-26T05:35:16.233211Z",
          "iopub.status.idle": "2025-04-26T05:35:16.590813Z",
          "shell.execute_reply.started": "2025-04-26T05:35:16.233197Z",
          "shell.execute_reply": "2025-04-26T05:35:16.589999Z"
        },
        "id": "NoVm6l6LIdRq",
        "outputId": "5c7bb532-dd69-4d8a-e7b1-f4f86a359443"
      },
      "outputs": [
        {
          "name": "stdout",
          "text": "Classification Report:\n               precision    recall  f1-score   support\n\n        High       0.99      0.98      0.98       417\n         Low       0.97      0.97      0.97       556\n      Medium       0.96      0.97      0.96       578\n\n    accuracy                           0.97      1551\n   macro avg       0.97      0.97      0.97      1551\nweighted avg       0.97      0.97      0.97      1551\n\nConfusion Matrix:\n\n",
          "output_type": "stream"
        },
        {
          "output_type": "display_data",
          "data": {
            "text/plain": "<Figure size 640x480 with 2 Axes>",
            "image/png": "[encoded data removed]"
          },
          "metadata": {}
        },
        {
          "name": "stdout",
          "text": "Best Parameters: {'max_depth': None, 'min_samples_split': 5, 'n_estimators': 200}\n",
          "output_type": "stream"
        }
      ],
      "execution_count": null
    }
  ]
}